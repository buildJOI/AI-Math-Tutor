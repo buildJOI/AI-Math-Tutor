{
  "nbformat": 4,
  "nbformat_minor": 0,
  "metadata": {
    "colab": {
      "provenance": [],
      "gpuType": "T4",
      "authorship_tag": "ABX9TyM01lzefTQYvXoZvnYZ6Z1o",
      "include_colab_link": true
    },
    "kernelspec": {
      "name": "python3",
      "display_name": "Python 3"
    },
    "language_info": {
      "name": "python"
    },
    "widgets": {
      "application/vnd.jupyter.widget-state+json": {
        "0856fcba8ba2415db474b10e51dc1853": {
          "model_module": "@jupyter-widgets/controls",
          "model_name": "DropdownModel",
          "model_module_version": "1.5.0",
          "state": {
            "_dom_classes": [],
            "_model_module": "@jupyter-widgets/controls",
            "_model_module_version": "1.5.0",
            "_model_name": "DropdownModel",
            "_options_labels": [
              "Addition and Subtraction",
              "Multiplication and Division",
              "Order of Operations (BODMAS)",
              "Variables and Expressions",
              "Solving Linear Equations",
              "Quadratic Equations",
              "Angles and Lines",
              "Triangles and Circles",
              "Area and Perimeter"
            ],
            "_view_count": null,
            "_view_module": "@jupyter-widgets/controls",
            "_view_module_version": "1.5.0",
            "_view_name": "DropdownView",
            "description": "Topic:",
            "description_tooltip": null,
            "disabled": false,
            "index": 2,
            "layout": "IPY_MODEL_0a7385e810994d2a85ed251316725872",
            "style": "IPY_MODEL_c82d88884e0e41f181f3cd219a534e08"
          }
        },
        "0a7385e810994d2a85ed251316725872": {
          "model_module": "@jupyter-widgets/base",
          "model_name": "LayoutModel",
          "model_module_version": "1.2.0",
          "state": {
            "_model_module": "@jupyter-widgets/base",
            "_model_module_version": "1.2.0",
            "_model_name": "LayoutModel",
            "_view_count": null,
            "_view_module": "@jupyter-widgets/base",
            "_view_module_version": "1.2.0",
            "_view_name": "LayoutView",
            "align_content": null,
            "align_items": null,
            "align_self": null,
            "border": null,
            "bottom": null,
            "display": null,
            "flex": null,
            "flex_flow": null,
            "grid_area": null,
            "grid_auto_columns": null,
            "grid_auto_flow": null,
            "grid_auto_rows": null,
            "grid_column": null,
            "grid_gap": null,
            "grid_row": null,
            "grid_template_areas": null,
            "grid_template_columns": null,
            "grid_template_rows": null,
            "height": null,
            "justify_content": null,
            "justify_items": null,
            "left": null,
            "margin": null,
            "max_height": null,
            "max_width": null,
            "min_height": null,
            "min_width": null,
            "object_fit": null,
            "object_position": null,
            "order": null,
            "overflow": null,
            "overflow_x": null,
            "overflow_y": null,
            "padding": null,
            "right": null,
            "top": null,
            "visibility": null,
            "width": null
          }
        },
        "c82d88884e0e41f181f3cd219a534e08": {
          "model_module": "@jupyter-widgets/controls",
          "model_name": "DescriptionStyleModel",
          "model_module_version": "1.5.0",
          "state": {
            "_model_module": "@jupyter-widgets/controls",
            "_model_module_version": "1.5.0",
            "_model_name": "DescriptionStyleModel",
            "_view_count": null,
            "_view_module": "@jupyter-widgets/base",
            "_view_module_version": "1.2.0",
            "_view_name": "StyleView",
            "description_width": "initial"
          }
        },
        "6f7086d0e1f049b09655b2a01f68533d": {
          "model_module": "@jupyter-widgets/controls",
          "model_name": "ButtonModel",
          "model_module_version": "1.5.0",
          "state": {
            "_dom_classes": [],
            "_model_module": "@jupyter-widgets/controls",
            "_model_module_version": "1.5.0",
            "_model_name": "ButtonModel",
            "_view_count": null,
            "_view_module": "@jupyter-widgets/controls",
            "_view_module_version": "1.5.0",
            "_view_name": "ButtonView",
            "button_style": "",
            "description": "Ask Tutor",
            "disabled": false,
            "icon": "",
            "layout": "IPY_MODEL_971ba192e47e4d03bfed4ed46e7d1f0d",
            "style": "IPY_MODEL_0b5d8d6efdd44da7988f8f172bc0a8a4",
            "tooltip": ""
          }
        },
        "971ba192e47e4d03bfed4ed46e7d1f0d": {
          "model_module": "@jupyter-widgets/base",
          "model_name": "LayoutModel",
          "model_module_version": "1.2.0",
          "state": {
            "_model_module": "@jupyter-widgets/base",
            "_model_module_version": "1.2.0",
            "_model_name": "LayoutModel",
            "_view_count": null,
            "_view_module": "@jupyter-widgets/base",
            "_view_module_version": "1.2.0",
            "_view_name": "LayoutView",
            "align_content": null,
            "align_items": null,
            "align_self": null,
            "border": null,
            "bottom": null,
            "display": null,
            "flex": null,
            "flex_flow": null,
            "grid_area": null,
            "grid_auto_columns": null,
            "grid_auto_flow": null,
            "grid_auto_rows": null,
            "grid_column": null,
            "grid_gap": null,
            "grid_row": null,
            "grid_template_areas": null,
            "grid_template_columns": null,
            "grid_template_rows": null,
            "height": null,
            "justify_content": null,
            "justify_items": null,
            "left": null,
            "margin": null,
            "max_height": null,
            "max_width": null,
            "min_height": null,
            "min_width": null,
            "object_fit": null,
            "object_position": null,
            "order": null,
            "overflow": null,
            "overflow_x": null,
            "overflow_y": null,
            "padding": null,
            "right": null,
            "top": null,
            "visibility": null,
            "width": null
          }
        },
        "0b5d8d6efdd44da7988f8f172bc0a8a4": {
          "model_module": "@jupyter-widgets/controls",
          "model_name": "ButtonStyleModel",
          "model_module_version": "1.5.0",
          "state": {
            "_model_module": "@jupyter-widgets/controls",
            "_model_module_version": "1.5.0",
            "_model_name": "ButtonStyleModel",
            "_view_count": null,
            "_view_module": "@jupyter-widgets/base",
            "_view_module_version": "1.2.0",
            "_view_name": "StyleView",
            "button_color": null,
            "font_weight": ""
          }
        },
        "de0b3f98f9614f548bd30e46c7d2761b": {
          "model_module": "@jupyter-widgets/output",
          "model_name": "OutputModel",
          "model_module_version": "1.0.0",
          "state": {
            "_dom_classes": [],
            "_model_module": "@jupyter-widgets/output",
            "_model_module_version": "1.0.0",
            "_model_name": "OutputModel",
            "_view_count": null,
            "_view_module": "@jupyter-widgets/output",
            "_view_module_version": "1.0.0",
            "_view_name": "OutputView",
            "layout": "IPY_MODEL_6a3d0ff6cffe43e1b11fad9e0effbe75",
            "msg_id": "",
            "outputs": [
              {
                "output_type": "stream",
                "name": "stdout",
                "text": [
                  "Selected Topic: Order of Operations (BODMAS)\n"
                ]
              },
              {
                "output_type": "stream",
                "name": "stdout",
                "text": [
                  "\n",
                  " AI Tutor Answer:\n",
                  " Of course! Let's break down the **Order of Operations (BODMAS)** in a simple way so you can solve math problems correctly.\n",
                  "\n",
                  "### What is BODMAS?\n",
                  "BODMAS is a rule that tells us the correct order to solve a math problem with multiple operations (like +, -, ×, ÷, etc.). If you don’t follow BODMAS, you might get the wrong answer!\n",
                  "\n",
                  "### What does BODMAS stand for?\n",
                  "1. **B** – **Brackets** ( )  \n",
                  "   Solve calculations inside brackets first.  \n",
                  "   Example:  \n",
                  "   \\( 3 \\times (2 + 4) = 3 \\times 6 = 18 \\)  \n",
                  "\n",
                  "2. **O** – **Orders** (Exponents/Powers like \\( 2^3 \\))  \n",
                  "   Next, solve powers or roots.  \n",
                  "   Example:  \n",
                  "   \\( 2 + 3^2 = 2 + 9 = 11 \\)  \n",
                  "\n",
                  "3. **D** – **Division** (÷)  \n",
                  "4. **M** – **Multiplication** (×)  \n",
                  "   Do division and multiplication from left to right.  \n",
                  "   Example:  \n",
                  "   \\( 6 ÷ 2 \\times 3 = 3 \\times 3 = 9 \\)  \n",
                  "\n",
                  "5. **A** – **Addition** (+)  \n",
                  "6. **S** – **Subtraction** (−)  \n",
                  "   Finally, do addition and subtraction from left to right.  \n",
                  "   Example:  \n",
                  "   \\( 10 - 4 + 2 = 6 + 2 = 8 \\)  \n",
                  "\n",
                  "### Example Problem:\n",
                  "Let’s solve \\( 4 + 6 \\times (5 - 2)^2 ÷ 3 \\) using BODMAS:\n",
                  "\n",
                  "1. **Brackets**: \\( (5 - 2) = 3 \\)  \n",
                  "   → Now: \\( 4 + 6 \\times 3^2 ÷ 3 \\)  \n",
                  "\n",
                  "2. **Orders**: \\( 3^2 = 9 \\)  \n",
                  "   → Now: \\( 4 + 6 \\times 9 ÷ 3 \\)  \n",
                  "\n",
                  "3. **Division & Multiplication** (left to right):  \n",
                  "   - First, \\( 6 \\times 9 = 54 \\)  \n",
                  "   - Then, \\( 54 ÷ 3 = 18 \\)  \n",
                  "   → Now: \\( 4 + 18 \\)  \n",
                  "\n",
                  "4. **Addition**: \\( 4 + 18 = \n"
                ]
              }
            ]
          }
        },
        "6a3d0ff6cffe43e1b11fad9e0effbe75": {
          "model_module": "@jupyter-widgets/base",
          "model_name": "LayoutModel",
          "model_module_version": "1.2.0",
          "state": {
            "_model_module": "@jupyter-widgets/base",
            "_model_module_version": "1.2.0",
            "_model_name": "LayoutModel",
            "_view_count": null,
            "_view_module": "@jupyter-widgets/base",
            "_view_module_version": "1.2.0",
            "_view_name": "LayoutView",
            "align_content": null,
            "align_items": null,
            "align_self": null,
            "border": null,
            "bottom": null,
            "display": null,
            "flex": null,
            "flex_flow": null,
            "grid_area": null,
            "grid_auto_columns": null,
            "grid_auto_flow": null,
            "grid_auto_rows": null,
            "grid_column": null,
            "grid_gap": null,
            "grid_row": null,
            "grid_template_areas": null,
            "grid_template_columns": null,
            "grid_template_rows": null,
            "height": null,
            "justify_content": null,
            "justify_items": null,
            "left": null,
            "margin": null,
            "max_height": null,
            "max_width": null,
            "min_height": null,
            "min_width": null,
            "object_fit": null,
            "object_position": null,
            "order": null,
            "overflow": null,
            "overflow_x": null,
            "overflow_y": null,
            "padding": null,
            "right": null,
            "top": null,
            "visibility": null,
            "width": null
          }
        }
      }
    }
  },
  "cells": [
    {
      "cell_type": "markdown",
      "metadata": {
        "id": "view-in-github",
        "colab_type": "text"
      },
      "source": [
        "<a href=\"https://colab.research.google.com/github/buildJOI/AI-Math-Tutor/blob/main/AI_Math_Tutor.ipynb\" target=\"_parent\"><img src=\"https://colab.research.google.com/assets/colab-badge.svg\" alt=\"Open In Colab\"/></a>"
      ]
    },
    {
      "cell_type": "code",
      "execution_count": null,
      "metadata": {
        "id": "VVdBlsOujg0j",
        "colab": {
          "base_uri": "https://localhost:8080/"
        },
        "outputId": "8bf87fa3-f38f-426e-fd37-02c3911a88dc"
      },
      "outputs": [
        {
          "output_type": "stream",
          "name": "stdout",
          "text": [
            "Requirement already satisfied: requests in /usr/local/lib/python3.11/dist-packages (2.32.3)\n",
            "Requirement already satisfied: charset-normalizer<4,>=2 in /usr/local/lib/python3.11/dist-packages (from requests) (3.4.2)\n",
            "Requirement already satisfied: idna<4,>=2.5 in /usr/local/lib/python3.11/dist-packages (from requests) (3.10)\n",
            "Requirement already satisfied: urllib3<3,>=1.21.1 in /usr/local/lib/python3.11/dist-packages (from requests) (2.4.0)\n",
            "Requirement already satisfied: certifi>=2017.4.17 in /usr/local/lib/python3.11/dist-packages (from requests) (2025.4.26)\n"
          ]
        }
      ],
      "source": [
        "!pip install requests\n"
      ]
    },
    {
      "cell_type": "code",
      "source": [
        "import requests"
      ],
      "metadata": {
        "id": "7DmDrwzfmmbu"
      },
      "execution_count": null,
      "outputs": []
    },
    {
      "cell_type": "code",
      "source": [
        "from google.colab import userdata\n",
        "userdata.get('API_KEY')"
      ],
      "metadata": {
        "colab": {
          "base_uri": "https://localhost:8080/",
          "height": 35
        },
        "id": "KKsIez2soGgY",
        "outputId": "66256a6f-6a02-4956-de3d-cc95434c2ccd"
      },
      "execution_count": null,
      "outputs": [
        {
          "output_type": "execute_result",
          "data": {
            "text/plain": [
              "'sk-67af89abdee4434084a250bc13ee7bef'"
            ],
            "application/vnd.google.colaboratory.intrinsic+json": {
              "type": "string"
            }
          },
          "metadata": {},
          "execution_count": 3
        }
      ]
    },
    {
      "cell_type": "code",
      "source": [
        "url = \"https://api.deepseek.com/v1/chat/completions\""
      ],
      "metadata": {
        "id": "o-v7UWb-oZ5G"
      },
      "execution_count": null,
      "outputs": []
    },
    {
      "cell_type": "code",
      "source": [
        "def ask_deepseek_tutor(question):\n",
        "  headers = {\n",
        "      \"Authorization\": f\"Bearer sk-67af89abdee4434084a250bc13ee7bef\",\n",
        "      \"Content-Type\": \"application/json\"\n",
        "  }\n",
        "\n",
        "  data = {\n",
        "      \"model\": \"deepseek-chat\",\n",
        "      \"messages\": [\n",
        "          {\"role\": \"system\", \"content\": \"You are an expert math tutor.\"},\n",
        "          {\"role\": \"user\", \"content\": f\"Explain this like I'm a beginner: {question}\"}\n",
        "      ],\n",
        "      \"temperature\": 0.6,\n",
        "      \"max_tokens\": 500\n",
        "  }\n",
        "\n",
        "  response = requests.post(url, headers=headers, json=data)\n",
        "\n",
        "  if response.status_code == 200:\n",
        "    return response.json()[\"choices\"][0][\"message\"][\"content\"]\n",
        "  else:\n",
        "    return f\"Error: {response.status_code} - {response.text}\"\n",
        "\n",
        "  data = {\n",
        "      \"model\": \"deepseek-chat\",\n",
        "      \"messages\": [\n",
        "          {\"role\": \"system\", \"content\": \"You are an expert math tutor.\"},\n",
        "          {\"role\": \"user\", \"content\": f\"Explain this like I'm a beginner: {question}\"}\n",
        "      ],\n",
        "      \"temperature\": 0.6,\n",
        "      \"max_tokens\": 500\n",
        "  }\n",
        "\n",
        "  response = requests.post(url, headers=headers, json=data)\n",
        "\n",
        "  if response.status_code == 200:\n",
        "    return response.json()[\"choices\"][0][\"message\"][\"content\"]\n",
        "  else:\n",
        "    return f\"Error: {response.status_code} - {response.text}\""
      ],
      "metadata": {
        "id": "mw_qQy1eoygD"
      },
      "execution_count": null,
      "outputs": []
    },
    {
      "cell_type": "code",
      "source": [
        "question = \"How do you calculate the area of a triangle?\"\n",
        "answer = ask_deepseek_tutor(question)\n",
        "print(\" AI Tutor Answer:\\n\", answer)"
      ],
      "metadata": {
        "colab": {
          "base_uri": "https://localhost:8080/"
        },
        "id": "dNS8Pyk8A0AW",
        "outputId": "b5a2e7b8-6940-49c1-8322-3da94a7a260d"
      },
      "execution_count": null,
      "outputs": [
        {
          "output_type": "stream",
          "name": "stdout",
          "text": [
            " AI Tutor Answer:\n",
            " Calculating the area of a triangle is simple! Here's how you do it step by step:\n",
            "\n",
            "### **Basic Formula:**\n",
            "The area \\( A \\) of a triangle can be found using:\n",
            "\n",
            "\\[\n",
            "A = \\frac{1}{2} \\times \\text{base} \\times \\text{height}\n",
            "\\]\n",
            "\n",
            "### **Steps:**\n",
            "1. **Identify the base and height:**\n",
            "   - The **base** is any one side of the triangle (you can choose any side).\n",
            "   - The **height** is the perpendicular distance from the base to the opposite vertex (corner).\n",
            "\n",
            "2. **Multiply the base and height:**\n",
            "   - Multiply the length of the base by the height.\n",
            "\n",
            "3. **Divide by 2:**\n",
            "   - Take the result from step 2 and divide it by 2 (or multiply by \\( \\frac{1}{2} \\)).\n",
            "\n",
            "### **Example:**\n",
            "Let’s say a triangle has:\n",
            "- **Base = 6 units**\n",
            "- **Height = 4 units**\n",
            "\n",
            "Then, the area is:\n",
            "\n",
            "\\[\n",
            "A = \\frac{1}{2} \\times 6 \\times 4 = \\frac{24}{2} = 12 \\text{ square units}\n",
            "\\]\n",
            "\n",
            "### **Visual Tip:**\n",
            "Imagine the triangle is half of a rectangle. The area of the rectangle is base × height, so the triangle is half of that!\n",
            "\n",
            "### **Other Cases:**\n",
            "- If you don’t know the height, you might need other methods (like Heron’s formula or trigonometry), but the basic formula above works for most simple cases.\n",
            "\n",
            "Let me know if you'd like an example with a different triangle! 😊\n"
          ]
        }
      ]
    },
    {
      "cell_type": "code",
      "source": [
        "syllabus = {\n",
        " \"Unit 1: Basic Arithmetic\": [\n",
        " \"Addition and Subtraction\",\n",
        " \"Multiplication and Division\",\n",
        " \"Order of Operations (BODMAS)\"\n",
        " ],\n",
        " \"Unit 2: Algebra\": [\n",
        " \"Variables and Expressions\",\n",
        " \"Solving Linear Equations\",\n",
        " \"Quadratic Equations\"\n",
        " ],\n",
        " \"Unit 3: Geometry\": [\n",
        " \"Angles and Lines\",\n",
        " \"Triangles and Circles\",\n",
        " \"Area and Perimeter\"\n",
        " ]\n",
        "}"
      ],
      "metadata": {
        "id": "Z5E7gHPYA-mV"
      },
      "execution_count": null,
      "outputs": []
    },
    {
      "cell_type": "code",
      "source": [
        "def show_syllabus():\n",
        "    print(\" AI Tutor Syllabus:\\n\")\n",
        "    for unit, topics in syllabus.items():\n",
        "        # Indent the lines inside the first for loop\n",
        "        print(f\"{unit}\")\n",
        "        for topic in topics:\n",
        "            # Indent the lines inside the second for loop\n",
        "            print(f\" - {topic}\")\n",
        "        # This print is also inside the first for loop\n",
        "        print()"
      ],
      "metadata": {
        "id": "J1UsGD5aBI1r"
      },
      "execution_count": null,
      "outputs": []
    },
    {
      "cell_type": "code",
      "source": [
        "show_syllabus()"
      ],
      "metadata": {
        "colab": {
          "base_uri": "https://localhost:8080/"
        },
        "id": "DNRVmBCiBbSq",
        "outputId": "84bcf5de-214f-431c-9836-19f636a28a77"
      },
      "execution_count": null,
      "outputs": [
        {
          "output_type": "stream",
          "name": "stdout",
          "text": [
            " AI Tutor Syllabus:\n",
            "\n",
            "Unit 1: Basic Arithmetic\n",
            " - Addition and Subtraction\n",
            " - Multiplication and Division\n",
            " - Order of Operations (BODMAS)\n",
            "\n",
            "Unit 2: Algebra\n",
            " - Variables and Expressions\n",
            " - Solving Linear Equations\n",
            " - Quadratic Equations\n",
            "\n",
            "Unit 3: Geometry\n",
            " - Angles and Lines\n",
            " - Triangles and Circles\n",
            " - Area and Perimeter\n",
            "\n"
          ]
        }
      ]
    },
    {
      "cell_type": "code",
      "source": [
        "selected_topic = \"Area and Perimeter\"\n",
        "question = f\"Explain the concept of {selected_topic} with examples.\"\n",
        "answer = ask_deepseek_tutor(question)\n",
        "print(\" AI Tutor Answer:\\n\", answer)"
      ],
      "metadata": {
        "colab": {
          "base_uri": "https://localhost:8080/"
        },
        "id": "pE7Qo5EzB13c",
        "outputId": "b7b64874-3cae-4ed1-8f70-4cf6f9e5f593"
      },
      "execution_count": null,
      "outputs": [
        {
          "output_type": "stream",
          "name": "stdout",
          "text": [
            " AI Tutor Answer:\n",
            " Of course! Let's start with the basics of **Area** and **Perimeter** using simple explanations and examples.\n",
            "\n",
            "---\n",
            "\n",
            "### **Perimeter**\n",
            "**What is Perimeter?**  \n",
            "Perimeter is the **total distance around the outside of a shape**. Think of it like walking along the edges of a park—the total steps you take to go all the way around is the perimeter.\n",
            "\n",
            "**Formula:**  \n",
            "For most shapes, you just **add up the lengths of all the sides**.\n",
            "\n",
            "**Example:**  \n",
            "Imagine a rectangle with:  \n",
            "- Length = 5 units  \n",
            "- Width = 3 units  \n",
            "\n",
            "To find the perimeter:  \n",
            "\\[\n",
            "\\text{Perimeter} = 5 + 3 + 5 + 3 = 16 \\text{ units}\n",
            "\\]  \n",
            "*(You add all four sides!)*  \n",
            "\n",
            "**Another Example (Square):**  \n",
            "A square has 4 equal sides. If one side = 4 units:  \n",
            "\\[\n",
            "\\text{Perimeter} = 4 + 4 + 4 + 4 = 16 \\text{ units}\n",
            "\\]  \n",
            "*(Or simply: \\( 4 \\times \\text{side length} \\))*\n",
            "\n",
            "---\n",
            "\n",
            "### **Area**\n",
            "**What is Area?**  \n",
            "Area is the **space inside a shape**. Think of it like how much paint you’d need to cover a wall or how many tiles fit on a floor.\n",
            "\n",
            "**Formula (Rectangle/Square):**  \n",
            "\\[\n",
            "\\text{Area} = \\text{Length} \\times \\text{Width}\n",
            "\\]\n",
            "\n",
            "**Example (Rectangle):**  \n",
            "Same rectangle (Length = 5 units, Width = 3 units):  \n",
            "\\[\n",
            "\\text{Area} = 5 \\times 3 = 15 \\text{ square units}\n",
            "\\]  \n",
            "*(Square units because it’s \"rows × columns\" of tiny squares inside!)*  \n",
            "\n",
            "**Example (Square):**  \n",
            "For a square with side = 4 units:  \n",
            "\\[\n",
            "\\text{Area} = 4 \\times 4 = 16 \\text{ square units}\n",
            "\\]\n",
            "\n",
            "---\n",
            "\n",
            "### **Key Differences**\n",
            "| **Perimeter** | **Area** |\n",
            "|--------------|----------|\n",
            "| Distance *around* the shape. | Space *inside* the shape. |\n",
            "| Measured in units (e.g., cm, m). | Measured in *square* units (e.g., cm², m²). |\n",
            "| Example: Fencing a garden. | Example: Painting a wall. |\n",
            "\n",
            "---\n",
            "\n",
            "###\n"
          ]
        }
      ]
    },
    {
      "cell_type": "code",
      "source": [
        "!pip install ipywidgets"
      ],
      "metadata": {
        "colab": {
          "base_uri": "https://localhost:8080/"
        },
        "id": "NACzYfsLCILU",
        "outputId": "c1ac0415-c77e-404a-e0cf-c3de3e838df3"
      },
      "execution_count": null,
      "outputs": [
        {
          "output_type": "stream",
          "name": "stdout",
          "text": [
            "Requirement already satisfied: ipywidgets in /usr/local/lib/python3.11/dist-packages (7.7.1)\n",
            "Requirement already satisfied: ipykernel>=4.5.1 in /usr/local/lib/python3.11/dist-packages (from ipywidgets) (6.17.1)\n",
            "Requirement already satisfied: ipython-genutils~=0.2.0 in /usr/local/lib/python3.11/dist-packages (from ipywidgets) (0.2.0)\n",
            "Requirement already satisfied: traitlets>=4.3.1 in /usr/local/lib/python3.11/dist-packages (from ipywidgets) (5.7.1)\n",
            "Requirement already satisfied: widgetsnbextension~=3.6.0 in /usr/local/lib/python3.11/dist-packages (from ipywidgets) (3.6.10)\n",
            "Requirement already satisfied: ipython>=4.0.0 in /usr/local/lib/python3.11/dist-packages (from ipywidgets) (7.34.0)\n",
            "Requirement already satisfied: jupyterlab-widgets>=1.0.0 in /usr/local/lib/python3.11/dist-packages (from ipywidgets) (3.0.15)\n",
            "Requirement already satisfied: debugpy>=1.0 in /usr/local/lib/python3.11/dist-packages (from ipykernel>=4.5.1->ipywidgets) (1.8.0)\n",
            "Requirement already satisfied: jupyter-client>=6.1.12 in /usr/local/lib/python3.11/dist-packages (from ipykernel>=4.5.1->ipywidgets) (6.1.12)\n",
            "Requirement already satisfied: matplotlib-inline>=0.1 in /usr/local/lib/python3.11/dist-packages (from ipykernel>=4.5.1->ipywidgets) (0.1.7)\n",
            "Requirement already satisfied: nest-asyncio in /usr/local/lib/python3.11/dist-packages (from ipykernel>=4.5.1->ipywidgets) (1.6.0)\n",
            "Requirement already satisfied: packaging in /usr/local/lib/python3.11/dist-packages (from ipykernel>=4.5.1->ipywidgets) (24.2)\n",
            "Requirement already satisfied: psutil in /usr/local/lib/python3.11/dist-packages (from ipykernel>=4.5.1->ipywidgets) (5.9.5)\n",
            "Requirement already satisfied: pyzmq>=17 in /usr/local/lib/python3.11/dist-packages (from ipykernel>=4.5.1->ipywidgets) (24.0.1)\n",
            "Requirement already satisfied: tornado>=6.1 in /usr/local/lib/python3.11/dist-packages (from ipykernel>=4.5.1->ipywidgets) (6.4.2)\n",
            "Requirement already satisfied: setuptools>=18.5 in /usr/local/lib/python3.11/dist-packages (from ipython>=4.0.0->ipywidgets) (75.2.0)\n",
            "Collecting jedi>=0.16 (from ipython>=4.0.0->ipywidgets)\n",
            "  Downloading jedi-0.19.2-py2.py3-none-any.whl.metadata (22 kB)\n",
            "Requirement already satisfied: decorator in /usr/local/lib/python3.11/dist-packages (from ipython>=4.0.0->ipywidgets) (4.4.2)\n",
            "Requirement already satisfied: pickleshare in /usr/local/lib/python3.11/dist-packages (from ipython>=4.0.0->ipywidgets) (0.7.5)\n",
            "Requirement already satisfied: prompt-toolkit!=3.0.0,!=3.0.1,<3.1.0,>=2.0.0 in /usr/local/lib/python3.11/dist-packages (from ipython>=4.0.0->ipywidgets) (3.0.51)\n",
            "Requirement already satisfied: pygments in /usr/local/lib/python3.11/dist-packages (from ipython>=4.0.0->ipywidgets) (2.19.1)\n",
            "Requirement already satisfied: backcall in /usr/local/lib/python3.11/dist-packages (from ipython>=4.0.0->ipywidgets) (0.2.0)\n",
            "Requirement already satisfied: pexpect>4.3 in /usr/local/lib/python3.11/dist-packages (from ipython>=4.0.0->ipywidgets) (4.9.0)\n",
            "Requirement already satisfied: notebook>=4.4.1 in /usr/local/lib/python3.11/dist-packages (from widgetsnbextension~=3.6.0->ipywidgets) (6.5.7)\n",
            "Requirement already satisfied: parso<0.9.0,>=0.8.4 in /usr/local/lib/python3.11/dist-packages (from jedi>=0.16->ipython>=4.0.0->ipywidgets) (0.8.4)\n",
            "Requirement already satisfied: jupyter-core>=4.6.0 in /usr/local/lib/python3.11/dist-packages (from jupyter-client>=6.1.12->ipykernel>=4.5.1->ipywidgets) (5.8.1)\n",
            "Requirement already satisfied: python-dateutil>=2.1 in /usr/local/lib/python3.11/dist-packages (from jupyter-client>=6.1.12->ipykernel>=4.5.1->ipywidgets) (2.9.0.post0)\n",
            "Requirement already satisfied: jinja2 in /usr/local/lib/python3.11/dist-packages (from notebook>=4.4.1->widgetsnbextension~=3.6.0->ipywidgets) (3.1.6)\n",
            "Requirement already satisfied: argon2-cffi in /usr/local/lib/python3.11/dist-packages (from notebook>=4.4.1->widgetsnbextension~=3.6.0->ipywidgets) (25.1.0)\n",
            "Requirement already satisfied: nbformat in /usr/local/lib/python3.11/dist-packages (from notebook>=4.4.1->widgetsnbextension~=3.6.0->ipywidgets) (5.10.4)\n",
            "Requirement already satisfied: nbconvert>=5 in /usr/local/lib/python3.11/dist-packages (from notebook>=4.4.1->widgetsnbextension~=3.6.0->ipywidgets) (7.16.6)\n",
            "Requirement already satisfied: Send2Trash>=1.8.0 in /usr/local/lib/python3.11/dist-packages (from notebook>=4.4.1->widgetsnbextension~=3.6.0->ipywidgets) (1.8.3)\n",
            "Requirement already satisfied: terminado>=0.8.3 in /usr/local/lib/python3.11/dist-packages (from notebook>=4.4.1->widgetsnbextension~=3.6.0->ipywidgets) (0.18.1)\n",
            "Requirement already satisfied: prometheus-client in /usr/local/lib/python3.11/dist-packages (from notebook>=4.4.1->widgetsnbextension~=3.6.0->ipywidgets) (0.22.1)\n",
            "Requirement already satisfied: nbclassic>=0.4.7 in /usr/local/lib/python3.11/dist-packages (from notebook>=4.4.1->widgetsnbextension~=3.6.0->ipywidgets) (1.3.1)\n",
            "Requirement already satisfied: ptyprocess>=0.5 in /usr/local/lib/python3.11/dist-packages (from pexpect>4.3->ipython>=4.0.0->ipywidgets) (0.7.0)\n",
            "Requirement already satisfied: wcwidth in /usr/local/lib/python3.11/dist-packages (from prompt-toolkit!=3.0.0,!=3.0.1,<3.1.0,>=2.0.0->ipython>=4.0.0->ipywidgets) (0.2.13)\n",
            "Requirement already satisfied: platformdirs>=2.5 in /usr/local/lib/python3.11/dist-packages (from jupyter-core>=4.6.0->jupyter-client>=6.1.12->ipykernel>=4.5.1->ipywidgets) (4.3.8)\n",
            "Requirement already satisfied: notebook-shim>=0.2.3 in /usr/local/lib/python3.11/dist-packages (from nbclassic>=0.4.7->notebook>=4.4.1->widgetsnbextension~=3.6.0->ipywidgets) (0.2.4)\n",
            "Requirement already satisfied: beautifulsoup4 in /usr/local/lib/python3.11/dist-packages (from nbconvert>=5->notebook>=4.4.1->widgetsnbextension~=3.6.0->ipywidgets) (4.13.4)\n",
            "Requirement already satisfied: bleach!=5.0.0 in /usr/local/lib/python3.11/dist-packages (from bleach[css]!=5.0.0->nbconvert>=5->notebook>=4.4.1->widgetsnbextension~=3.6.0->ipywidgets) (6.2.0)\n",
            "Requirement already satisfied: defusedxml in /usr/local/lib/python3.11/dist-packages (from nbconvert>=5->notebook>=4.4.1->widgetsnbextension~=3.6.0->ipywidgets) (0.7.1)\n",
            "Requirement already satisfied: jupyterlab-pygments in /usr/local/lib/python3.11/dist-packages (from nbconvert>=5->notebook>=4.4.1->widgetsnbextension~=3.6.0->ipywidgets) (0.3.0)\n",
            "Requirement already satisfied: markupsafe>=2.0 in /usr/local/lib/python3.11/dist-packages (from nbconvert>=5->notebook>=4.4.1->widgetsnbextension~=3.6.0->ipywidgets) (3.0.2)\n",
            "Requirement already satisfied: mistune<4,>=2.0.3 in /usr/local/lib/python3.11/dist-packages (from nbconvert>=5->notebook>=4.4.1->widgetsnbextension~=3.6.0->ipywidgets) (3.1.3)\n",
            "Requirement already satisfied: nbclient>=0.5.0 in /usr/local/lib/python3.11/dist-packages (from nbconvert>=5->notebook>=4.4.1->widgetsnbextension~=3.6.0->ipywidgets) (0.10.2)\n",
            "Requirement already satisfied: pandocfilters>=1.4.1 in /usr/local/lib/python3.11/dist-packages (from nbconvert>=5->notebook>=4.4.1->widgetsnbextension~=3.6.0->ipywidgets) (1.5.1)\n",
            "Requirement already satisfied: fastjsonschema>=2.15 in /usr/local/lib/python3.11/dist-packages (from nbformat->notebook>=4.4.1->widgetsnbextension~=3.6.0->ipywidgets) (2.21.1)\n",
            "Requirement already satisfied: jsonschema>=2.6 in /usr/local/lib/python3.11/dist-packages (from nbformat->notebook>=4.4.1->widgetsnbextension~=3.6.0->ipywidgets) (4.24.0)\n",
            "Requirement already satisfied: six>=1.5 in /usr/local/lib/python3.11/dist-packages (from python-dateutil>=2.1->jupyter-client>=6.1.12->ipykernel>=4.5.1->ipywidgets) (1.17.0)\n",
            "Requirement already satisfied: argon2-cffi-bindings in /usr/local/lib/python3.11/dist-packages (from argon2-cffi->notebook>=4.4.1->widgetsnbextension~=3.6.0->ipywidgets) (21.2.0)\n",
            "Requirement already satisfied: webencodings in /usr/local/lib/python3.11/dist-packages (from bleach!=5.0.0->bleach[css]!=5.0.0->nbconvert>=5->notebook>=4.4.1->widgetsnbextension~=3.6.0->ipywidgets) (0.5.1)\n",
            "Requirement already satisfied: tinycss2<1.5,>=1.1.0 in /usr/local/lib/python3.11/dist-packages (from bleach[css]!=5.0.0->nbconvert>=5->notebook>=4.4.1->widgetsnbextension~=3.6.0->ipywidgets) (1.4.0)\n",
            "Requirement already satisfied: attrs>=22.2.0 in /usr/local/lib/python3.11/dist-packages (from jsonschema>=2.6->nbformat->notebook>=4.4.1->widgetsnbextension~=3.6.0->ipywidgets) (25.3.0)\n",
            "Requirement already satisfied: jsonschema-specifications>=2023.03.6 in /usr/local/lib/python3.11/dist-packages (from jsonschema>=2.6->nbformat->notebook>=4.4.1->widgetsnbextension~=3.6.0->ipywidgets) (2025.4.1)\n",
            "Requirement already satisfied: referencing>=0.28.4 in /usr/local/lib/python3.11/dist-packages (from jsonschema>=2.6->nbformat->notebook>=4.4.1->widgetsnbextension~=3.6.0->ipywidgets) (0.36.2)\n",
            "Requirement already satisfied: rpds-py>=0.7.1 in /usr/local/lib/python3.11/dist-packages (from jsonschema>=2.6->nbformat->notebook>=4.4.1->widgetsnbextension~=3.6.0->ipywidgets) (0.25.1)\n",
            "Requirement already satisfied: jupyter-server<3,>=1.8 in /usr/local/lib/python3.11/dist-packages (from notebook-shim>=0.2.3->nbclassic>=0.4.7->notebook>=4.4.1->widgetsnbextension~=3.6.0->ipywidgets) (1.16.0)\n",
            "Requirement already satisfied: cffi>=1.0.1 in /usr/local/lib/python3.11/dist-packages (from argon2-cffi-bindings->argon2-cffi->notebook>=4.4.1->widgetsnbextension~=3.6.0->ipywidgets) (1.17.1)\n",
            "Requirement already satisfied: soupsieve>1.2 in /usr/local/lib/python3.11/dist-packages (from beautifulsoup4->nbconvert>=5->notebook>=4.4.1->widgetsnbextension~=3.6.0->ipywidgets) (2.7)\n",
            "Requirement already satisfied: typing-extensions>=4.0.0 in /usr/local/lib/python3.11/dist-packages (from beautifulsoup4->nbconvert>=5->notebook>=4.4.1->widgetsnbextension~=3.6.0->ipywidgets) (4.14.0)\n",
            "Requirement already satisfied: pycparser in /usr/local/lib/python3.11/dist-packages (from cffi>=1.0.1->argon2-cffi-bindings->argon2-cffi->notebook>=4.4.1->widgetsnbextension~=3.6.0->ipywidgets) (2.22)\n",
            "Requirement already satisfied: anyio>=3.1.0 in /usr/local/lib/python3.11/dist-packages (from jupyter-server<3,>=1.8->notebook-shim>=0.2.3->nbclassic>=0.4.7->notebook>=4.4.1->widgetsnbextension~=3.6.0->ipywidgets) (4.9.0)\n",
            "Requirement already satisfied: websocket-client in /usr/local/lib/python3.11/dist-packages (from jupyter-server<3,>=1.8->notebook-shim>=0.2.3->nbclassic>=0.4.7->notebook>=4.4.1->widgetsnbextension~=3.6.0->ipywidgets) (1.8.0)\n",
            "Requirement already satisfied: idna>=2.8 in /usr/local/lib/python3.11/dist-packages (from anyio>=3.1.0->jupyter-server<3,>=1.8->notebook-shim>=0.2.3->nbclassic>=0.4.7->notebook>=4.4.1->widgetsnbextension~=3.6.0->ipywidgets) (3.10)\n",
            "Requirement already satisfied: sniffio>=1.1 in /usr/local/lib/python3.11/dist-packages (from anyio>=3.1.0->jupyter-server<3,>=1.8->notebook-shim>=0.2.3->nbclassic>=0.4.7->notebook>=4.4.1->widgetsnbextension~=3.6.0->ipywidgets) (1.3.1)\n",
            "Downloading jedi-0.19.2-py2.py3-none-any.whl (1.6 MB)\n",
            "\u001b[2K   \u001b[90m━━━━━━━━━━━━━━━━━━━━━━━━━━━━━━━━━━━━━━━━\u001b[0m \u001b[32m1.6/1.6 MB\u001b[0m \u001b[31m34.6 MB/s\u001b[0m eta \u001b[36m0:00:00\u001b[0m\n",
            "\u001b[?25hInstalling collected packages: jedi\n",
            "Successfully installed jedi-0.19.2\n"
          ]
        }
      ]
    },
    {
      "cell_type": "code",
      "source": [
        "import ipywidgets as widgets\n",
        "from IPython.display import display\n",
        "import requests # Import requests module\n",
        "\n",
        "# Define the ask_deepseek_tutor function here\n",
        "def ask_deepseek_tutor(question):\n",
        "  # Assuming the API key is stored in google.colab.userdata\n",
        "  from google.colab import userdata\n",
        "  api_key = userdata.get('API_KEY')\n",
        "  url = \"https://api.deepseek.com/v1/chat/completions\"\n",
        "  headers = {\n",
        "      \"Authorization\": f\"Bearer {api_key}\", # Use the retrieved API key\n",
        "      \"Content-Type\": \"application/json\"\n",
        "  }\n",
        "\n",
        "  data = {\n",
        "      \"model\": \"deepseek-chat\",\n",
        "      \"messages\": [\n",
        "          {\"role\": \"system\", \"content\": \"You are an expert math tutor.\"},\n",
        "          {\"role\": \"user\", \"content\": f\"Explain this like I'm a beginner: {question}\"}\n",
        "      ],\n",
        "      \"temperature\": 0.6,\n",
        "      \"max_tokens\": 500\n",
        "  }\n",
        "\n",
        "  response = requests.post(url, headers=headers, json=data)\n",
        "\n",
        "  if response.status_code == 200:\n",
        "    return response.json()[\"choices\"][0][\"message\"][\"content\"]\n",
        "  else:\n",
        "    return f\"Error: {response.status_code} - {response.text}\"\n",
        "\n",
        "# The syllabus variable is already defined in a previous cell or define it here\n",
        "syllabus = {\n",
        " \"Unit 1: Basic Arithmetic\": [\n",
        " \"Addition and Subtraction\",\n",
        " \"Multiplication and Division\",\n",
        " \"Order of Operations (BODMAS)\"\n",
        " ],\n",
        " \"Unit 2: Algebra\": [\n",
        " \"Variables and Expressions\",\n",
        " \"Solving Linear Equations\",\n",
        " \"Quadratic Equations\"\n",
        " ],\n",
        " \"Unit 3: Geometry\": [\n",
        " \"Angles and Lines\",\n",
        " \"Triangles and Circles\",\n",
        " \"Area and Perimeter\"\n",
        " ]\n",
        "}\n",
        "\n",
        "\n",
        "topics = [topic for sublist in syllabus.values() for topic in sublist]\n",
        "\n",
        "dropdown = widgets.Dropdown(\n",
        " options=topics,\n",
        " description='Topic:',\n",
        " style={'description_width': 'initial'}\n",
        ")\n",
        "\n",
        "button = widgets.Button(description=\"Ask Tutor\")\n",
        "output = widgets.Output()\n",
        "\n",
        "def on_button_clicked(b):\n",
        " with output:\n",
        "    output.clear_output()\n",
        "    topic = dropdown.value\n",
        "    print(f\"Selected Topic: {topic}\")\n",
        "    answer = ask_deepseek_tutor(f\"Teach me about {topic}\")\n",
        "    print(\"\\n AI Tutor Answer:\\n\", answer)\n",
        "\n",
        "\n",
        "button.on_click(on_button_clicked)\n",
        "display(dropdown, button, output)"
      ],
      "metadata": {
        "colab": {
          "base_uri": "https://localhost:8080/",
          "height": 914,
          "referenced_widgets": [
            "0856fcba8ba2415db474b10e51dc1853",
            "0a7385e810994d2a85ed251316725872",
            "c82d88884e0e41f181f3cd219a534e08",
            "6f7086d0e1f049b09655b2a01f68533d",
            "971ba192e47e4d03bfed4ed46e7d1f0d",
            "0b5d8d6efdd44da7988f8f172bc0a8a4",
            "de0b3f98f9614f548bd30e46c7d2761b",
            "6a3d0ff6cffe43e1b11fad9e0effbe75"
          ]
        },
        "id": "U_3dPa0OCOaE",
        "outputId": "d561926c-f712-4a53-bd2a-f19da0b81f0f"
      },
      "execution_count": null,
      "outputs": [
        {
          "output_type": "display_data",
          "data": {
            "text/plain": [
              "Dropdown(description='Topic:', options=('Addition and Subtraction', 'Multiplication and Division', 'Order of O…"
            ],
            "application/vnd.jupyter.widget-view+json": {
              "version_major": 2,
              "version_minor": 0,
              "model_id": "0856fcba8ba2415db474b10e51dc1853"
            }
          },
          "metadata": {}
        },
        {
          "output_type": "display_data",
          "data": {
            "text/plain": [
              "Button(description='Ask Tutor', style=ButtonStyle())"
            ],
            "application/vnd.jupyter.widget-view+json": {
              "version_major": 2,
              "version_minor": 0,
              "model_id": "6f7086d0e1f049b09655b2a01f68533d"
            }
          },
          "metadata": {}
        },
        {
          "output_type": "display_data",
          "data": {
            "text/plain": [
              "Output()"
            ],
            "application/vnd.jupyter.widget-view+json": {
              "version_major": 2,
              "version_minor": 0,
              "model_id": "de0b3f98f9614f548bd30e46c7d2761b"
            }
          },
          "metadata": {}
        }
      ]
    }
  ]
}